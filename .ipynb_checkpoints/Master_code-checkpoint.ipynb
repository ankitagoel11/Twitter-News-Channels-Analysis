{
 "cells": [
  {
   "cell_type": "code",
   "execution_count": 60,
   "metadata": {},
   "outputs": [],
   "source": [
    "import tweepy\n",
    "import numpy as np\n",
    "import pandas as pd\n",
    "from datetime import datetime\n",
    "import matplotlib.pyplot as plt\n",
    "import seaborn as sns\n",
    "\n",
    "\n",
    "# Import and Initialize Sentiment Analyzer\n",
    "from vaderSentiment.vaderSentiment import SentimentIntensityAnalyzer\n",
    "analyzer = SentimentIntensityAnalyzer()\n",
    "\n",
    "# Twitter API Keys\n",
    "from config import (consumer_key, \n",
    "                    consumer_secret, \n",
    "                    access_token, \n",
    "                    access_token_secret)\n",
    "\n",
    "# Setup Tweepy API Authentication\n",
    "auth = tweepy.OAuthHandler(consumer_key, consumer_secret)\n",
    "auth.set_access_token(access_token, access_token_secret)\n",
    "api = tweepy.API(auth, parser=tweepy.parsers.JSONParser())"
   ]
  },
  {
   "cell_type": "code",
   "execution_count": 61,
   "metadata": {},
   "outputs": [
    {
     "name": "stdout",
     "output_type": "stream",
     "text": [
      "@CBS\n",
      "@CNN\n",
      "@Fox\n",
      "@nytimes\n",
      "@BBCWorld\n"
     ]
    }
   ],
   "source": [
    "import pprint\n",
    "\n",
    "# Target Account\n",
    "target_users = [\"@CBS\", \"@CNN\", \"@Fox\", \"@nytimes\", \"@BBCWorld\"] \n",
    "\n",
    "## Variables for holding sentiments\n",
    "sentiments = []\n",
    "\n",
    "\n",
    "# Loop through 5 pages of tweets (total 100 tweets)\n",
    "for target_user in target_users:\n",
    "    counter = 1 \n",
    "    oldest_tweet = None # Variable for max_id\n",
    "    for x in range(5):\n",
    "\n",
    "        # Get all tweets from home feed\n",
    "        public_tweets = api.user_timeline(target_user, max_id = oldest_tweet)\n",
    "\n",
    "        # Loop through all tweets \n",
    "        for tweet in public_tweets:\n",
    "            \n",
    "        \n",
    "            # Run Vader Analysis on each tweet\n",
    "            results = analyzer.polarity_scores(tweet[\"text\"])\n",
    "            compound = results[\"compound\"]\n",
    "            pos = results[\"pos\"]\n",
    "            neu = results[\"neu\"]\n",
    "            neg = results[\"neg\"]\n",
    "            tweets_ago = counter\n",
    "        \n",
    "            # Get Tweet ID, subtract 1, and assign to oldest_tweet\n",
    "            oldest_tweet = tweet['id'] - 1\n",
    "        \n",
    "            # Add sentiments for each tweet into a list\n",
    "            sentiments.append({\"Date\": tweet[\"created_at\"], \n",
    "                               \"Tweet_text\": tweet[\"text\"],\n",
    "                           \"Compound\": compound,\n",
    "                           \"Positive\": pos,\n",
    "                           \"Negative\": neu,\n",
    "                           \"Neutral\": neg,\n",
    "                           \"Tweets Ago\": counter,\n",
    "                            \"Twitter_User\" : target_user})\n",
    "        \n",
    "        # Add to counter to count the number of tweets extracted\n",
    "            counter += 1\n",
    "    print (target_user)"
   ]
  },
  {
   "cell_type": "code",
   "execution_count": 63,
   "metadata": {},
   "outputs": [
    {
     "data": {
      "text/html": [
       "<div>\n",
       "<style scoped>\n",
       "    .dataframe tbody tr th:only-of-type {\n",
       "        vertical-align: middle;\n",
       "    }\n",
       "\n",
       "    .dataframe tbody tr th {\n",
       "        vertical-align: top;\n",
       "    }\n",
       "\n",
       "    .dataframe thead th {\n",
       "        text-align: right;\n",
       "    }\n",
       "</style>\n",
       "<table border=\"1\" class=\"dataframe\">\n",
       "  <thead>\n",
       "    <tr style=\"text-align: right;\">\n",
       "      <th></th>\n",
       "      <th>Compound</th>\n",
       "      <th>Date</th>\n",
       "      <th>Negative</th>\n",
       "      <th>Neutral</th>\n",
       "      <th>Positive</th>\n",
       "      <th>Tweet_text</th>\n",
       "      <th>Tweets Ago</th>\n",
       "      <th>Twitter_User</th>\n",
       "    </tr>\n",
       "  </thead>\n",
       "  <tbody>\n",
       "    <tr>\n",
       "      <th>0</th>\n",
       "      <td>0.0000</td>\n",
       "      <td>Wed Apr 11 02:59:21 +0000 2018</td>\n",
       "      <td>1.000</td>\n",
       "      <td>0.000</td>\n",
       "      <td>0.000</td>\n",
       "      <td>For more #EltonSalute GIFs, head over to @GIPH...</td>\n",
       "      <td>1</td>\n",
       "      <td>@CBS</td>\n",
       "    </tr>\n",
       "    <tr>\n",
       "      <th>1</th>\n",
       "      <td>0.0000</td>\n",
       "      <td>Wed Apr 11 02:57:55 +0000 2018</td>\n",
       "      <td>1.000</td>\n",
       "      <td>0.000</td>\n",
       "      <td>0.000</td>\n",
       "      <td>That's one superstar line-up, and it's all for...</td>\n",
       "      <td>2</td>\n",
       "      <td>@CBS</td>\n",
       "    </tr>\n",
       "    <tr>\n",
       "      <th>2</th>\n",
       "      <td>0.6369</td>\n",
       "      <td>Wed Apr 11 02:53:37 +0000 2018</td>\n",
       "      <td>0.682</td>\n",
       "      <td>0.000</td>\n",
       "      <td>0.318</td>\n",
       "      <td>Can you feel the love tonight for @eltonoffici...</td>\n",
       "      <td>3</td>\n",
       "      <td>@CBS</td>\n",
       "    </tr>\n",
       "    <tr>\n",
       "      <th>3</th>\n",
       "      <td>0.8074</td>\n",
       "      <td>Wed Apr 11 02:47:45 +0000 2018</td>\n",
       "      <td>0.644</td>\n",
       "      <td>0.000</td>\n",
       "      <td>0.356</td>\n",
       "      <td>A timeless @eltonofficial hit like \"Bennie and...</td>\n",
       "      <td>4</td>\n",
       "      <td>@CBS</td>\n",
       "    </tr>\n",
       "    <tr>\n",
       "      <th>4</th>\n",
       "      <td>0.4404</td>\n",
       "      <td>Wed Apr 11 02:37:54 +0000 2018</td>\n",
       "      <td>0.793</td>\n",
       "      <td>0.062</td>\n",
       "      <td>0.145</td>\n",
       "      <td>The talented @johnlegend is here to pay homage...</td>\n",
       "      <td>5</td>\n",
       "      <td>@CBS</td>\n",
       "    </tr>\n",
       "  </tbody>\n",
       "</table>\n",
       "</div>"
      ],
      "text/plain": [
       "   Compound                            Date  Negative  Neutral  Positive  \\\n",
       "0    0.0000  Wed Apr 11 02:59:21 +0000 2018     1.000    0.000     0.000   \n",
       "1    0.0000  Wed Apr 11 02:57:55 +0000 2018     1.000    0.000     0.000   \n",
       "2    0.6369  Wed Apr 11 02:53:37 +0000 2018     0.682    0.000     0.318   \n",
       "3    0.8074  Wed Apr 11 02:47:45 +0000 2018     0.644    0.000     0.356   \n",
       "4    0.4404  Wed Apr 11 02:37:54 +0000 2018     0.793    0.062     0.145   \n",
       "\n",
       "                                          Tweet_text  Tweets Ago Twitter_User  \n",
       "0  For more #EltonSalute GIFs, head over to @GIPH...           1         @CBS  \n",
       "1  That's one superstar line-up, and it's all for...           2         @CBS  \n",
       "2  Can you feel the love tonight for @eltonoffici...           3         @CBS  \n",
       "3  A timeless @eltonofficial hit like \"Bennie and...           4         @CBS  \n",
       "4  The talented @johnlegend is here to pay homage...           5         @CBS  "
      ]
     },
     "execution_count": 63,
     "metadata": {},
     "output_type": "execute_result"
    }
   ],
   "source": [
    "sentiments_pd = pd.DataFrame.from_dict(sentiments) #making a dataframe from the extracted data\n",
    "sentiments_pd.head()"
   ]
  },
  {
   "cell_type": "code",
   "execution_count": 64,
   "metadata": {},
   "outputs": [],
   "source": [
    "#importing the dataframe to a csv\n",
    "\n",
    "sentiments_pd.to_csv(\"Social_Media_Tweets.csv\")"
   ]
  },
  {
   "cell_type": "code",
   "execution_count": 65,
   "metadata": {},
   "outputs": [],
   "source": [
    "new_df = sentiments_pd.set_index(\"Twitter_User\") # to make the plotting of graphs easier"
   ]
  },
  {
   "cell_type": "code",
   "execution_count": 66,
   "metadata": {},
   "outputs": [
    {
     "data": {
      "text/html": [
       "<div>\n",
       "<style scoped>\n",
       "    .dataframe tbody tr th:only-of-type {\n",
       "        vertical-align: middle;\n",
       "    }\n",
       "\n",
       "    .dataframe tbody tr th {\n",
       "        vertical-align: top;\n",
       "    }\n",
       "\n",
       "    .dataframe thead th {\n",
       "        text-align: right;\n",
       "    }\n",
       "</style>\n",
       "<table border=\"1\" class=\"dataframe\">\n",
       "  <thead>\n",
       "    <tr style=\"text-align: right;\">\n",
       "      <th></th>\n",
       "      <th>Compound</th>\n",
       "      <th>Date</th>\n",
       "      <th>Negative</th>\n",
       "      <th>Neutral</th>\n",
       "      <th>Positive</th>\n",
       "      <th>Tweet_text</th>\n",
       "      <th>Tweets Ago</th>\n",
       "    </tr>\n",
       "    <tr>\n",
       "      <th>Twitter_User</th>\n",
       "      <th></th>\n",
       "      <th></th>\n",
       "      <th></th>\n",
       "      <th></th>\n",
       "      <th></th>\n",
       "      <th></th>\n",
       "      <th></th>\n",
       "    </tr>\n",
       "  </thead>\n",
       "  <tbody>\n",
       "    <tr>\n",
       "      <th>@CBS</th>\n",
       "      <td>0.0000</td>\n",
       "      <td>Wed Apr 11 02:59:21 +0000 2018</td>\n",
       "      <td>1.000</td>\n",
       "      <td>0.000</td>\n",
       "      <td>0.000</td>\n",
       "      <td>For more #EltonSalute GIFs, head over to @GIPH...</td>\n",
       "      <td>1</td>\n",
       "    </tr>\n",
       "    <tr>\n",
       "      <th>@CBS</th>\n",
       "      <td>0.0000</td>\n",
       "      <td>Wed Apr 11 02:57:55 +0000 2018</td>\n",
       "      <td>1.000</td>\n",
       "      <td>0.000</td>\n",
       "      <td>0.000</td>\n",
       "      <td>That's one superstar line-up, and it's all for...</td>\n",
       "      <td>2</td>\n",
       "    </tr>\n",
       "    <tr>\n",
       "      <th>@CBS</th>\n",
       "      <td>0.6369</td>\n",
       "      <td>Wed Apr 11 02:53:37 +0000 2018</td>\n",
       "      <td>0.682</td>\n",
       "      <td>0.000</td>\n",
       "      <td>0.318</td>\n",
       "      <td>Can you feel the love tonight for @eltonoffici...</td>\n",
       "      <td>3</td>\n",
       "    </tr>\n",
       "    <tr>\n",
       "      <th>@CBS</th>\n",
       "      <td>0.8074</td>\n",
       "      <td>Wed Apr 11 02:47:45 +0000 2018</td>\n",
       "      <td>0.644</td>\n",
       "      <td>0.000</td>\n",
       "      <td>0.356</td>\n",
       "      <td>A timeless @eltonofficial hit like \"Bennie and...</td>\n",
       "      <td>4</td>\n",
       "    </tr>\n",
       "    <tr>\n",
       "      <th>@CBS</th>\n",
       "      <td>0.4404</td>\n",
       "      <td>Wed Apr 11 02:37:54 +0000 2018</td>\n",
       "      <td>0.793</td>\n",
       "      <td>0.062</td>\n",
       "      <td>0.145</td>\n",
       "      <td>The talented @johnlegend is here to pay homage...</td>\n",
       "      <td>5</td>\n",
       "    </tr>\n",
       "  </tbody>\n",
       "</table>\n",
       "</div>"
      ],
      "text/plain": [
       "              Compound                            Date  Negative  Neutral  \\\n",
       "Twitter_User                                                                \n",
       "@CBS            0.0000  Wed Apr 11 02:59:21 +0000 2018     1.000    0.000   \n",
       "@CBS            0.0000  Wed Apr 11 02:57:55 +0000 2018     1.000    0.000   \n",
       "@CBS            0.6369  Wed Apr 11 02:53:37 +0000 2018     0.682    0.000   \n",
       "@CBS            0.8074  Wed Apr 11 02:47:45 +0000 2018     0.644    0.000   \n",
       "@CBS            0.4404  Wed Apr 11 02:37:54 +0000 2018     0.793    0.062   \n",
       "\n",
       "              Positive                                         Tweet_text  \\\n",
       "Twitter_User                                                                \n",
       "@CBS             0.000  For more #EltonSalute GIFs, head over to @GIPH...   \n",
       "@CBS             0.000  That's one superstar line-up, and it's all for...   \n",
       "@CBS             0.318  Can you feel the love tonight for @eltonoffici...   \n",
       "@CBS             0.356  A timeless @eltonofficial hit like \"Bennie and...   \n",
       "@CBS             0.145  The talented @johnlegend is here to pay homage...   \n",
       "\n",
       "              Tweets Ago  \n",
       "Twitter_User              \n",
       "@CBS                   1  \n",
       "@CBS                   2  \n",
       "@CBS                   3  \n",
       "@CBS                   4  \n",
       "@CBS                   5  "
      ]
     },
     "execution_count": 66,
     "metadata": {},
     "output_type": "execute_result"
    }
   ],
   "source": [
    "new_df.head() # inspecting the dataframe"
   ]
  },
  {
   "cell_type": "markdown",
   "metadata": {},
   "source": [
    "### Part 1 - Graph 1"
   ]
  },
  {
   "cell_type": "code",
   "execution_count": 70,
   "metadata": {},
   "outputs": [
    {
     "data": {
      "image/png": "[encoded data removed]",
      "text/plain": [
       "<matplotlib.figure.Figure at 0x1af1557d470>"
      ]
     },
     "metadata": {},
     "output_type": "display_data"
    }
   ],
   "source": [
    "\n",
    "colors = ['r','g','b','y','m'] # setting up a colors list to assign a different color to each twitter user\n",
    "\n",
    "# plotting of graph\n",
    "for pos in range(len(target_users)):\n",
    "    user_graph = plt.scatter(new_df.loc[target_users[pos],'Tweets Ago'], new_df.loc[target_users[pos],'Compound'],\n",
    "                             color= colors[pos] ,label=target_users[pos])\n",
    "#getting the current date\n",
    "now = datetime.now()\n",
    "now = now.strftime(\"%Y-%m-%d\")\n",
    "\n",
    "plt.legend(loc='center left', bbox_to_anchor=(1, 0.5), title=\"Media Sources\")\n",
    "plt.title(f\"Sentiment Analysis of Media Tweets ({now}) \")\n",
    "plt.xlim([new_df['Tweets Ago'].max(),new_df['Tweets Ago'].min()]) \n",
    "plt.ylabel(\"Tweet Polarity\")\n",
    "plt.xlabel(\"Tweets Ago\")\n",
    "plt.savefig(\"Sentiment Analysis of Media Tweets.png\")\n",
    "plt.show()\n"
   ]
  },
  {
   "cell_type": "markdown",
   "metadata": {},
   "source": [
    "# Part 2 - Graph 2"
   ]
  },
  {
   "cell_type": "code",
   "execution_count": 68,
   "metadata": {},
   "outputs": [
    {
     "data": {
      "text/html": [
       "<div>\n",
       "<style scoped>\n",
       "    .dataframe tbody tr th:only-of-type {\n",
       "        vertical-align: middle;\n",
       "    }\n",
       "\n",
       "    .dataframe tbody tr th {\n",
       "        vertical-align: top;\n",
       "    }\n",
       "\n",
       "    .dataframe thead th {\n",
       "        text-align: right;\n",
       "    }\n",
       "</style>\n",
       "<table border=\"1\" class=\"dataframe\">\n",
       "  <thead>\n",
       "    <tr style=\"text-align: right;\">\n",
       "      <th></th>\n",
       "      <th>Twitter_User</th>\n",
       "      <th>Compound</th>\n",
       "    </tr>\n",
       "  </thead>\n",
       "  <tbody>\n",
       "    <tr>\n",
       "      <th>0</th>\n",
       "      <td>@BBCWorld</td>\n",
       "      <td>-0.217474</td>\n",
       "    </tr>\n",
       "    <tr>\n",
       "      <th>1</th>\n",
       "      <td>@CBS</td>\n",
       "      <td>0.365001</td>\n",
       "    </tr>\n",
       "    <tr>\n",
       "      <th>2</th>\n",
       "      <td>@CNN</td>\n",
       "      <td>0.013689</td>\n",
       "    </tr>\n",
       "    <tr>\n",
       "      <th>3</th>\n",
       "      <td>@Fox</td>\n",
       "      <td>0.202977</td>\n",
       "    </tr>\n",
       "    <tr>\n",
       "      <th>4</th>\n",
       "      <td>@nytimes</td>\n",
       "      <td>0.004672</td>\n",
       "    </tr>\n",
       "  </tbody>\n",
       "</table>\n",
       "</div>"
      ],
      "text/plain": [
       "  Twitter_User  Compound\n",
       "0    @BBCWorld -0.217474\n",
       "1         @CBS  0.365001\n",
       "2         @CNN  0.013689\n",
       "3         @Fox  0.202977\n",
       "4     @nytimes  0.004672"
      ]
     },
     "execution_count": 68,
     "metadata": {},
     "output_type": "execute_result"
    }
   ],
   "source": [
    "Overall_sentiments = sentiments_pd.groupby(\"Twitter_User\").Compound.mean() # average of the compound score for each twitter_user\n",
    "\n",
    "type(Overall_sentiments)\n",
    "\n",
    "Overall_sentiments_pd = pd.DataFrame(Overall_sentiments).reset_index()\n",
    "\n",
    "Overall_sentiments_pd"
   ]
  },
  {
   "cell_type": "code",
   "execution_count": 69,
   "metadata": {
    "scrolled": true
   },
   "outputs": [
    {
     "data": {
      "image/png": "[encoded data removed]",
      "text/plain": [
       "<matplotlib.figure.Figure at 0x1af1557d128>"
      ]
     },
     "metadata": {},
     "output_type": "display_data"
    }
   ],
   "source": [
    "#Plotting of second graph\n",
    "\n",
    "graph = sentiments_pd.groupby(\"Twitter_User\").Compound.mean().plot(kind = 'bar')\n",
    "\n",
    "plt.title(f\"Overall Sentiment Analysis of Media Tweets ({now}) \")\n",
    "plt.ylabel(\"Tweet Polarity\")\n",
    "plt.plot()\n",
    "plt.grid()\n",
    "plt.ylim(-1,1)\n",
    "plt.savefig(\"Overall Sentiment Analysis of Media Tweets.png\")"
   ]
  },
  {
   "cell_type": "markdown",
   "metadata": {},
   "source": [
    "### Observations"
   ]
  },
  {
   "cell_type": "markdown",
   "metadata": {},
   "source": [
    "1) Even though all the data sources in this analysis are news channels, the news they tweet is \n",
    "different and the sentiment around the same news is very different. \n",
    "\n",
    "2)In the dataset above, the New York times is the most neutral news channel out of the 5 analyzed in this exercise\n",
    "on twitter. This observation is however limited to the 100 tweets analyzed at that time. \n",
    "\n",
    "3)In the dataset above, BBC World is the most neutral news channel out of the 5 analyzed in this exercise\n",
    "on twitter. This observation is however limited to the 100 tweets analyzed at that time. \n"
   ]
  }
 ],
 "metadata": {
  "kernelspec": {
   "display_name": "Python [conda env:PythonData]",
   "language": "python",
   "name": "conda-env-PythonData-py"
  },
  "language_info": {
   "codemirror_mode": {
    "name": "ipython",
    "version": 3
   },
   "file_extension": ".py",
   "mimetype": "text/x-python",
   "name": "python",
   "nbconvert_exporter": "python",
   "pygments_lexer": "ipython3",
   "version": "3.6.5"
  }
 },
 "nbformat": 4,
 "nbformat_minor": 2
}
